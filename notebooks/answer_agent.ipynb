{
 "cells": [
  {
   "cell_type": "code",
   "outputs": [],
   "source": [
    "from decimal import Decimal\n",
    "import math\n",
    "from langchain_core.tools import tool\n",
    "from langchain_openai import ChatOpenAI\n",
    "import os\n",
    "from dotenv import load_dotenv\n",
    "from core.constants import ChatMessage\n",
    "from langchain_core.prompts import ChatPromptTemplate, PromptTemplate\n",
    "import uuid\n",
    "\n",
    "load_dotenv()\n",
    "OPENAI_API_KEY = os.getenv(\"OPENAI_API_KEY\")\n",
    "\n",
    "_printed = set()\n",
    "thread_id = str(uuid.uuid4())\n",
    "\n",
    "def _print_event(event: dict, _printed: set, max_length=1500):\n",
    "    current_state = event.get(\"dialog_state\")\n",
    "    if current_state:\n",
    "        print(\"Currently in: \", current_state[-1])\n",
    "    message = event.get(\"messages\")\n",
    "    if message:\n",
    "        if isinstance(message, list):\n",
    "            message = message[-1]\n",
    "        if message.id not in _printed:\n",
    "            msg_repr = message.pretty_repr(html=True)\n",
    "            if len(msg_repr) > max_length:\n",
    "                msg_repr = msg_repr[:max_length] + \" ... (truncated)\"\n",
    "            print(msg_repr)\n",
    "            _printed.add(message.id)\n",
    "            \n",
    "\n",
    "\n",
    "template = \"\"\"You are an AI trained in Retail Store Data. You job is to first generate sql query and get the desired answer by running the generated query based on tools provided.\n",
    "Format any currency values into Indian currency format and then provide a concise answer basis the following guidelines:\n",
    "\n",
    "Given the following user question, SQL query, and SQL results:\n",
    "1. Keep the tone conversational and friendly.\n",
    "2. Analyse the result data and try to provide a trend or analysis if possible.\n",
    "3. Provide suggestions on similar questions related to the question asked.\n",
    "4. If Sql Result is None or empty, provide a response that \"{SQL_RESULT_ERROR}\"\n",
    "\n",
    "\"\"\"\n",
    "\n",
    "prompt = ChatPromptTemplate.from_messages(\n",
    "  [\n",
    "      (\"system\", template),\n",
    "      (\"placeholder\", \"{messages}\")\n",
    "  ]\n",
    ").partial(SQL_RESULT_ERROR=ChatMessage.SQL_RESULT_ERROR)\n",
    "\n",
    "@tool\n",
    "def format_in_indian_currency(amount):\n",
    "    \"\"\"Converts a numeric amount into Indian rupee format with Lakhs/Crores.\"\"\"\n",
    "    amount = math.ceil(amount)\n",
    "    if amount >= 10000000:  # 1e7 = 1,00,00,000\n",
    "        return f\"{amount / 10000000:.2f} Crores\"\n",
    "    elif amount >= 100000:  # 1e5 = 1,00,000\n",
    "        return f\"{amount / 100000:.2f} Lakhs\"\n",
    "    else:\n",
    "        return f\"₹{amount:,}\"\n",
    "    \n",
    "@tool\n",
    "def get_sql_query(question):\n",
    "    \"\"\"Returns the SQL query for the user question.\"\"\"\n",
    "    return \"SELECT SUM(`Total Order Value`) AS `Total Sales` FROM  `rpt_order_details_report` WHERE  `Transaction Date` BETWEEN '2023-04-01' AND '2024-03-31';\"\n",
    "\n",
    "@tool\n",
    "def run_query(query):\n",
    "    \"\"\"Runs the sql query\"\"\"\n",
    "    return \"[(Decimal('2991221641.22'),)]\"\n",
    "\n",
    "tools = [format_in_indian_currency, get_sql_query, run_query]\n",
    "\n",
    "llm = ChatOpenAI(model=\"gpt-4o\")\n",
    "chain_runnable = prompt | llm.bind_tools(tools)\n",
    "tools = [format_in_indian_currency, run_query, get_sql_query]"
   ],
   "metadata": {
    "collapsed": false,
    "ExecuteTime": {
     "end_time": "2025-01-14T06:45:33.615507095Z",
     "start_time": "2025-01-14T06:45:32.597324681Z"
    }
   },
   "id": "856b400e44c609f8",
   "execution_count": 1
  },
  {
   "cell_type": "code",
   "outputs": [],
   "source": [
    "from langchain_core.runnables import Runnable, RunnableConfig\n",
    "from langgraph.constants import START\n",
    "from langgraph.graph import add_messages, StateGraph, MessagesState\n",
    "from langchain_core.messages import AnyMessage\n",
    "from typing import TypedDict, Annotated\n",
    "from langgraph.checkpoint.memory import MemorySaver\n",
    "from langgraph.prebuilt import tools_condition, ToolNode\n",
    "\n",
    "class State(TypedDict):\n",
    "    messages: Annotated[list[AnyMessage], add_messages]\n",
    "    \n",
    "# class Assistant:\n",
    "#     def __init__(self, runnable: Runnable):\n",
    "#         self.runnable = runnable\n",
    "# \n",
    "#     def __call__(self, state: State, config: RunnableConfig):\n",
    "#         while True:\n",
    "#             configuration = config.get(\"configurable\", {})\n",
    "#             # question = configuration.get(\"question\", None)\n",
    "#             # result = configuration.get(\"result\", None)\n",
    "#             # query = configuration.get(\"query\", None)\n",
    "#             # state = {**state, \"question\": question, \"result\": result,\"query\": query}\n",
    "#             state = {**state}\n",
    "#             result = self.runnable.invoke(state)\n",
    "#             # If the LLM happens to return an empty response, we will re-prompt it\n",
    "#             # for an actual response.\n",
    "#             if not result.tool_calls and (\n",
    "#                 not result.content\n",
    "#                 or isinstance(result.content, list)\n",
    "#                 and not result.content[0].get(\"text\")\n",
    "#             ):\n",
    "#                 messages = state[\"messages\"] + [(\"user\", \"Respond with a real output.\")]\n",
    "#                 state = {**state, \"messages\": messages}\n",
    "#             else:\n",
    "#                 break\n",
    "#         return {\"messages\": result}\n",
    "    \n",
    "    \n",
    "def call_model(state: State):\n",
    "    messages = state[\"messages\"]\n",
    "    print(messages)\n",
    "    response = chain_runnable.invoke({\"messages\": messages})\n",
    "    return {\"messages\": [response]}\n",
    "\n",
    "\n",
    "builder = StateGraph(MessagesState)\n",
    "builder.add_node(\"agent\", call_model)\n",
    "builder.add_node(\"tools\", ToolNode(tools))\n",
    "builder.add_edge(START, \"agent\")\n",
    "builder.add_conditional_edges(\"agent\", tools_condition)\n",
    "builder.add_edge(\"tools\", \"agent\")\n",
    "\n",
    "# memory = MemorySaver()\n",
    "graph = builder.compile()\n"
   ],
   "metadata": {
    "collapsed": false,
    "ExecuteTime": {
     "end_time": "2025-01-14T06:52:31.460190511Z",
     "start_time": "2025-01-14T06:52:31.418307752Z"
    }
   },
   "id": "655d390197e94940",
   "execution_count": 10
  },
  {
   "cell_type": "code",
   "outputs": [
    {
     "name": "stdout",
     "output_type": "stream",
     "text": [
      "[HumanMessage(content='sales for financial year 2023?', additional_kwargs={}, response_metadata={}, id='12e94a64-5fb8-4b50-bef9-111398e80b75')]\n",
      "[HumanMessage(content='sales for financial year 2023?', additional_kwargs={}, response_metadata={}, id='12e94a64-5fb8-4b50-bef9-111398e80b75'), AIMessage(content='', additional_kwargs={'tool_calls': [{'id': 'call_zUfyNDdHFOoV2wAefF3qZIzY', 'function': {'arguments': '{\"question\":\"sales for financial year 2023?\"}', 'name': 'get_sql_query'}, 'type': 'function'}], 'refusal': None}, response_metadata={'token_usage': {'completion_tokens': 23, 'prompt_tokens': 239, 'total_tokens': 262, 'completion_tokens_details': {'accepted_prediction_tokens': 0, 'audio_tokens': 0, 'reasoning_tokens': 0, 'rejected_prediction_tokens': 0}, 'prompt_tokens_details': {'audio_tokens': 0, 'cached_tokens': 0}}, 'model_name': 'gpt-4o-2024-08-06', 'system_fingerprint': 'fp_4691090a87', 'finish_reason': 'tool_calls', 'logprobs': None}, id='run-5b59cc45-dd13-442c-b506-96ebb651dab4-0', tool_calls=[{'name': 'get_sql_query', 'args': {'question': 'sales for financial year 2023?'}, 'id': 'call_zUfyNDdHFOoV2wAefF3qZIzY', 'type': 'tool_call'}], usage_metadata={'input_tokens': 239, 'output_tokens': 23, 'total_tokens': 262, 'input_token_details': {'audio': 0, 'cache_read': 0}, 'output_token_details': {'audio': 0, 'reasoning': 0}}), ToolMessage(content=\"SELECT SUM(`Total Order Value`) AS `Total Sales` FROM  `rpt_order_details_report` WHERE  `Transaction Date` BETWEEN '2023-04-01' AND '2024-03-31';\", name='get_sql_query', id='845bf5d4-a5c4-417e-8f79-82106b8af338', tool_call_id='call_zUfyNDdHFOoV2wAefF3qZIzY')]\n",
      "[HumanMessage(content='sales for financial year 2023?', additional_kwargs={}, response_metadata={}, id='12e94a64-5fb8-4b50-bef9-111398e80b75'), AIMessage(content='', additional_kwargs={'tool_calls': [{'id': 'call_zUfyNDdHFOoV2wAefF3qZIzY', 'function': {'arguments': '{\"question\":\"sales for financial year 2023?\"}', 'name': 'get_sql_query'}, 'type': 'function'}], 'refusal': None}, response_metadata={'token_usage': {'completion_tokens': 23, 'prompt_tokens': 239, 'total_tokens': 262, 'completion_tokens_details': {'accepted_prediction_tokens': 0, 'audio_tokens': 0, 'reasoning_tokens': 0, 'rejected_prediction_tokens': 0}, 'prompt_tokens_details': {'audio_tokens': 0, 'cached_tokens': 0}}, 'model_name': 'gpt-4o-2024-08-06', 'system_fingerprint': 'fp_4691090a87', 'finish_reason': 'tool_calls', 'logprobs': None}, id='run-5b59cc45-dd13-442c-b506-96ebb651dab4-0', tool_calls=[{'name': 'get_sql_query', 'args': {'question': 'sales for financial year 2023?'}, 'id': 'call_zUfyNDdHFOoV2wAefF3qZIzY', 'type': 'tool_call'}], usage_metadata={'input_tokens': 239, 'output_tokens': 23, 'total_tokens': 262, 'input_token_details': {'audio': 0, 'cache_read': 0}, 'output_token_details': {'audio': 0, 'reasoning': 0}}), ToolMessage(content=\"SELECT SUM(`Total Order Value`) AS `Total Sales` FROM  `rpt_order_details_report` WHERE  `Transaction Date` BETWEEN '2023-04-01' AND '2024-03-31';\", name='get_sql_query', id='845bf5d4-a5c4-417e-8f79-82106b8af338', tool_call_id='call_zUfyNDdHFOoV2wAefF3qZIzY'), AIMessage(content='', additional_kwargs={'tool_calls': [{'id': 'call_qzTg1K5UO4wu9NcvfzJpALlx', 'function': {'arguments': '{\"query\":\"SELECT SUM(`Total Order Value`) AS `Total Sales` FROM  `rpt_order_details_report` WHERE  `Transaction Date` BETWEEN \\'2023-04-01\\' AND \\'2024-03-31\\';\"}', 'name': 'run_query'}, 'type': 'function'}], 'refusal': None}, response_metadata={'token_usage': {'completion_tokens': 58, 'prompt_tokens': 315, 'total_tokens': 373, 'completion_tokens_details': {'accepted_prediction_tokens': 0, 'audio_tokens': 0, 'reasoning_tokens': 0, 'rejected_prediction_tokens': 0}, 'prompt_tokens_details': {'audio_tokens': 0, 'cached_tokens': 0}}, 'model_name': 'gpt-4o-2024-08-06', 'system_fingerprint': 'fp_4691090a87', 'finish_reason': 'tool_calls', 'logprobs': None}, id='run-42202056-d351-4b08-b03d-e25e47a94acf-0', tool_calls=[{'name': 'run_query', 'args': {'query': \"SELECT SUM(`Total Order Value`) AS `Total Sales` FROM  `rpt_order_details_report` WHERE  `Transaction Date` BETWEEN '2023-04-01' AND '2024-03-31';\"}, 'id': 'call_qzTg1K5UO4wu9NcvfzJpALlx', 'type': 'tool_call'}], usage_metadata={'input_tokens': 315, 'output_tokens': 58, 'total_tokens': 373, 'input_token_details': {'audio': 0, 'cache_read': 0}, 'output_token_details': {'audio': 0, 'reasoning': 0}}), ToolMessage(content=\"[(Decimal('2991221641.22'),)]\", name='run_query', id='766abfbc-0b3e-4aac-b0fe-8146a79ffd5d', tool_call_id='call_qzTg1K5UO4wu9NcvfzJpALlx')]\n",
      "[HumanMessage(content='sales for financial year 2023?', additional_kwargs={}, response_metadata={}, id='12e94a64-5fb8-4b50-bef9-111398e80b75'), AIMessage(content='', additional_kwargs={'tool_calls': [{'id': 'call_zUfyNDdHFOoV2wAefF3qZIzY', 'function': {'arguments': '{\"question\":\"sales for financial year 2023?\"}', 'name': 'get_sql_query'}, 'type': 'function'}], 'refusal': None}, response_metadata={'token_usage': {'completion_tokens': 23, 'prompt_tokens': 239, 'total_tokens': 262, 'completion_tokens_details': {'accepted_prediction_tokens': 0, 'audio_tokens': 0, 'reasoning_tokens': 0, 'rejected_prediction_tokens': 0}, 'prompt_tokens_details': {'audio_tokens': 0, 'cached_tokens': 0}}, 'model_name': 'gpt-4o-2024-08-06', 'system_fingerprint': 'fp_4691090a87', 'finish_reason': 'tool_calls', 'logprobs': None}, id='run-5b59cc45-dd13-442c-b506-96ebb651dab4-0', tool_calls=[{'name': 'get_sql_query', 'args': {'question': 'sales for financial year 2023?'}, 'id': 'call_zUfyNDdHFOoV2wAefF3qZIzY', 'type': 'tool_call'}], usage_metadata={'input_tokens': 239, 'output_tokens': 23, 'total_tokens': 262, 'input_token_details': {'audio': 0, 'cache_read': 0}, 'output_token_details': {'audio': 0, 'reasoning': 0}}), ToolMessage(content=\"SELECT SUM(`Total Order Value`) AS `Total Sales` FROM  `rpt_order_details_report` WHERE  `Transaction Date` BETWEEN '2023-04-01' AND '2024-03-31';\", name='get_sql_query', id='845bf5d4-a5c4-417e-8f79-82106b8af338', tool_call_id='call_zUfyNDdHFOoV2wAefF3qZIzY'), AIMessage(content='', additional_kwargs={'tool_calls': [{'id': 'call_qzTg1K5UO4wu9NcvfzJpALlx', 'function': {'arguments': '{\"query\":\"SELECT SUM(`Total Order Value`) AS `Total Sales` FROM  `rpt_order_details_report` WHERE  `Transaction Date` BETWEEN \\'2023-04-01\\' AND \\'2024-03-31\\';\"}', 'name': 'run_query'}, 'type': 'function'}], 'refusal': None}, response_metadata={'token_usage': {'completion_tokens': 58, 'prompt_tokens': 315, 'total_tokens': 373, 'completion_tokens_details': {'accepted_prediction_tokens': 0, 'audio_tokens': 0, 'reasoning_tokens': 0, 'rejected_prediction_tokens': 0}, 'prompt_tokens_details': {'audio_tokens': 0, 'cached_tokens': 0}}, 'model_name': 'gpt-4o-2024-08-06', 'system_fingerprint': 'fp_4691090a87', 'finish_reason': 'tool_calls', 'logprobs': None}, id='run-42202056-d351-4b08-b03d-e25e47a94acf-0', tool_calls=[{'name': 'run_query', 'args': {'query': \"SELECT SUM(`Total Order Value`) AS `Total Sales` FROM  `rpt_order_details_report` WHERE  `Transaction Date` BETWEEN '2023-04-01' AND '2024-03-31';\"}, 'id': 'call_qzTg1K5UO4wu9NcvfzJpALlx', 'type': 'tool_call'}], usage_metadata={'input_tokens': 315, 'output_tokens': 58, 'total_tokens': 373, 'input_token_details': {'audio': 0, 'cache_read': 0}, 'output_token_details': {'audio': 0, 'reasoning': 0}}), ToolMessage(content=\"[(Decimal('2991221641.22'),)]\", name='run_query', id='766abfbc-0b3e-4aac-b0fe-8146a79ffd5d', tool_call_id='call_qzTg1K5UO4wu9NcvfzJpALlx'), AIMessage(content='', additional_kwargs={'tool_calls': [{'id': 'call_mYdNXmO7fM6oNUx5wXOoA0qr', 'function': {'arguments': '{\"amount\":2991221641.22}', 'name': 'format_in_indian_currency'}, 'type': 'function'}], 'refusal': None}, response_metadata={'token_usage': {'completion_tokens': 23, 'prompt_tokens': 392, 'total_tokens': 415, 'completion_tokens_details': {'accepted_prediction_tokens': 0, 'audio_tokens': 0, 'reasoning_tokens': 0, 'rejected_prediction_tokens': 0}, 'prompt_tokens_details': {'audio_tokens': 0, 'cached_tokens': 0}}, 'model_name': 'gpt-4o-2024-08-06', 'system_fingerprint': 'fp_4691090a87', 'finish_reason': 'tool_calls', 'logprobs': None}, id='run-4495e5e0-b171-46ad-b33d-78d605f29f86-0', tool_calls=[{'name': 'format_in_indian_currency', 'args': {'amount': 2991221641.22}, 'id': 'call_mYdNXmO7fM6oNUx5wXOoA0qr', 'type': 'tool_call'}], usage_metadata={'input_tokens': 392, 'output_tokens': 23, 'total_tokens': 415, 'input_token_details': {'audio': 0, 'cache_read': 0}, 'output_token_details': {'audio': 0, 'reasoning': 0}}), ToolMessage(content='299.12 Crores', name='format_in_indian_currency', id='7124cd8f-8588-45e0-b101-753202e059d8', tool_call_id='call_mYdNXmO7fM6oNUx5wXOoA0qr')]\n"
     ]
    }
   ],
   "source": [
    "from langchain_core.tracers.context import tracing_v2_enabled\n",
    "\n",
    "\n",
    "config = {\n",
    "    \"configurable\": {\n",
    "        # \"question\": \"sales for financial year 2023\",\n",
    "        # \"result\": \"[(Decimal('2991221641.22'),)]\",\n",
    "        # \"query\": \"SELECT SUM(`Total Order Value`) AS `Total Sales` FROM  `rpt_order_details_report` WHERE  `Transaction Date` BETWEEN '2023-04-01' AND '2024-03-31';\",\n",
    "        \"thread_id\": thread_id\n",
    "    }\n",
    "}\n",
    "with tracing_v2_enabled():\n",
    "    # final_state = graph.invoke({\"messages\": (\"user\", \"sales for financial year 2023?\")}, config)\n",
    "    # print(final_state)\n",
    "    events = graph.stream({\"messages\": (\"user\", \"sales for financial year 2023?\")}, config, stream_mode=\"values\")\n",
    "    # print(state)\n",
    "    for event in events:\n",
    "            _print_event(event, _printed)\n"
   ],
   "metadata": {
    "collapsed": false,
    "ExecuteTime": {
     "end_time": "2025-01-14T07:15:30.455735589Z",
     "start_time": "2025-01-14T07:15:23.440579353Z"
    }
   },
   "id": "af0a1f5259141074",
   "execution_count": 12
  },
  {
   "cell_type": "code",
   "outputs": [],
   "source": [],
   "metadata": {
    "collapsed": false
   },
   "id": "20953ac01944b0a5"
  }
 ],
 "metadata": {
  "kernelspec": {
   "display_name": "Python 3",
   "language": "python",
   "name": "python3"
  },
  "language_info": {
   "codemirror_mode": {
    "name": "ipython",
    "version": 2
   },
   "file_extension": ".py",
   "mimetype": "text/x-python",
   "name": "python",
   "nbconvert_exporter": "python",
   "pygments_lexer": "ipython2",
   "version": "2.7.6"
  }
 },
 "nbformat": 4,
 "nbformat_minor": 5
}
